{
 "cells": [
  {
   "cell_type": "code",
   "execution_count": 1,
   "id": "5dc996d8-45dc-4abb-a81a-c0c01adb5916",
   "metadata": {},
   "outputs": [
    {
     "name": "stdout",
     "output_type": "stream",
     "text": [
      "Requirement already satisfied: pandas in /opt/conda/lib/python3.9/site-packages (2.2.0)\n",
      "Requirement already satisfied: scikit-learn in /opt/conda/lib/python3.9/site-packages (1.3.2)\n",
      "Requirement already satisfied: numpy<2,>=1.22.4; python_version < \"3.11\" in /opt/conda/lib/python3.9/site-packages (from pandas) (1.26.4)\n",
      "Requirement already satisfied: python-dateutil>=2.8.2 in /opt/conda/lib/python3.9/site-packages (from pandas) (2.9.0.post0)\n",
      "Requirement already satisfied: pytz>=2020.1 in /opt/conda/lib/python3.9/site-packages (from pandas) (2024.1)\n",
      "Requirement already satisfied: tzdata>=2022.7 in /opt/conda/lib/python3.9/site-packages (from pandas) (2024.1)\n",
      "Requirement already satisfied: threadpoolctl>=2.0.0 in /opt/conda/lib/python3.9/site-packages (from scikit-learn) (3.5.0)\n",
      "Requirement already satisfied: joblib>=1.1.1 in /opt/conda/lib/python3.9/site-packages (from scikit-learn) (1.4.2)\n",
      "Requirement already satisfied: scipy>=1.5.0 in /opt/conda/lib/python3.9/site-packages (from scikit-learn) (1.13.1)\n",
      "Requirement already satisfied: six>=1.5 in /opt/conda/lib/python3.9/site-packages (from python-dateutil>=2.8.2->pandas) (1.16.0)\n",
      "\u001b[33mWARNING: You are using pip version 19.3.1; however, version 24.3.1 is available.\n",
      "You should consider upgrading via the 'pip install --upgrade pip' command.\u001b[0m\n",
      "Note: you may need to restart the kernel to use updated packages.\n"
     ]
    }
   ],
   "source": [
    "pip install pandas scikit-learn"
   ]
  },
  {
   "cell_type": "code",
   "execution_count": 2,
   "id": "677086bd-b0a7-4e66-ae13-5c63174729e7",
   "metadata": {},
   "outputs": [
    {
     "name": "stdout",
     "output_type": "stream",
     "text": [
      "Requirement already satisfied: pyarrow in /opt/conda/lib/python3.9/site-packages (18.1.0)\n",
      "\u001b[33mWARNING: You are using pip version 19.3.1; however, version 24.3.1 is available.\n",
      "You should consider upgrading via the 'pip install --upgrade pip' command.\u001b[0m\n",
      "Note: you may need to restart the kernel to use updated packages.\n"
     ]
    }
   ],
   "source": [
    "pip install pyarrow"
   ]
  },
  {
   "cell_type": "code",
   "execution_count": 3,
   "id": "3dc03bbe-867c-40a8-a099-59a0251f9710",
   "metadata": {},
   "outputs": [
    {
     "name": "stdout",
     "output_type": "stream",
     "text": [
      "1. Load and Preprocess the Dataset\n"
     ]
    }
   ],
   "source": [
    "print(\"1. Load and Preprocess the Dataset\")"
   ]
  },
  {
   "cell_type": "code",
   "execution_count": 4,
   "id": "87aba43d-4800-4ecb-a5ee-0c4cf17d87e9",
   "metadata": {},
   "outputs": [],
   "source": [
    "import pandas as pd\n",
    "from sklearn.model_selection import train_test_split\n",
    "from sklearn.preprocessing import LabelEncoder\n",
    "from sklearn.ensemble import RandomForestClassifier\n",
    "from sklearn.metrics import accuracy_score"
   ]
  },
  {
   "cell_type": "code",
   "execution_count": 5,
   "id": "cad38aff-e0d8-40cd-a57d-d3805eaa6cf3",
   "metadata": {},
   "outputs": [
    {
     "name": "stdout",
     "output_type": "stream",
     "text": [
      "Requirement already satisfied: fosforml in /opt/conda/lib/python3.9/site-packages (1.1.9)\n",
      "Requirement already satisfied: scikit-learn==1.3.2 in /opt/conda/lib/python3.9/site-packages (from fosforml) (1.3.2)\n",
      "Requirement already satisfied: cloudpickle==2.2.1 in /opt/conda/lib/python3.9/site-packages (from fosforml) (2.2.1)\n",
      "Requirement already satisfied: snowflake-ml-python==1.5.0; python_version <= \"3.9\" in /opt/conda/lib/python3.9/site-packages (from fosforml) (1.5.0)\n",
      "Requirement already satisfied: scipy>=1.5.0 in /opt/conda/lib/python3.9/site-packages (from scikit-learn==1.3.2->fosforml) (1.13.1)\n",
      "Requirement already satisfied: threadpoolctl>=2.0.0 in /opt/conda/lib/python3.9/site-packages (from scikit-learn==1.3.2->fosforml) (3.5.0)\n",
      "Requirement already satisfied: joblib>=1.1.1 in /opt/conda/lib/python3.9/site-packages (from scikit-learn==1.3.2->fosforml) (1.4.2)\n",
      "Requirement already satisfied: numpy<2.0,>=1.17.3 in /opt/conda/lib/python3.9/site-packages (from scikit-learn==1.3.2->fosforml) (1.26.4)\n",
      "Requirement already satisfied: snowflake-snowpark-python!=1.12.0,<2,>=1.11.1 in /opt/conda/lib/python3.9/site-packages (from snowflake-ml-python==1.5.0; python_version <= \"3.9\"->fosforml) (1.25.0)\n",
      "Requirement already satisfied: fsspec[http]<2024,>=2022.11 in /opt/conda/lib/python3.9/site-packages (from snowflake-ml-python==1.5.0; python_version <= \"3.9\"->fosforml) (2023.12.2)\n",
      "Requirement already satisfied: catboost<1.3,>=1.2.0 in /opt/conda/lib/python3.9/site-packages (from snowflake-ml-python==1.5.0; python_version <= \"3.9\"->fosforml) (1.2.7)\n",
      "Requirement already satisfied: pandas<3,>=1.0.0 in /opt/conda/lib/python3.9/site-packages (from snowflake-ml-python==1.5.0; python_version <= \"3.9\"->fosforml) (2.2.0)\n",
      "Requirement already satisfied: pyarrow in /opt/conda/lib/python3.9/site-packages (from snowflake-ml-python==1.5.0; python_version <= \"3.9\"->fosforml) (18.1.0)\n",
      "Requirement already satisfied: retrying<2,>=1.3.3 in /opt/conda/lib/python3.9/site-packages (from snowflake-ml-python==1.5.0; python_version <= \"3.9\"->fosforml) (1.3.4)\n",
      "Requirement already satisfied: pyyaml<7,>=6.0 in /opt/conda/lib/python3.9/site-packages (from snowflake-ml-python==1.5.0; python_version <= \"3.9\"->fosforml) (6.0.1)\n",
      "Requirement already satisfied: snowflake-connector-python[pandas]<4,>=3.5.0 in /opt/conda/lib/python3.9/site-packages (from snowflake-ml-python==1.5.0; python_version <= \"3.9\"->fosforml) (3.12.3)\n",
      "Requirement already satisfied: typing-extensions<5,>=4.1.0 in /opt/conda/lib/python3.9/site-packages (from snowflake-ml-python==1.5.0; python_version <= \"3.9\"->fosforml) (4.12.2)\n",
      "Requirement already satisfied: s3fs<2024,>=2022.11 in /opt/conda/lib/python3.9/site-packages (from snowflake-ml-python==1.5.0; python_version <= \"3.9\"->fosforml) (2023.12.2)\n",
      "Requirement already satisfied: importlib-resources<7,>=6.1.1 in /opt/conda/lib/python3.9/site-packages (from snowflake-ml-python==1.5.0; python_version <= \"3.9\"->fosforml) (6.4.5)\n",
      "Requirement already satisfied: pytimeparse<2,>=1.1.8 in /opt/conda/lib/python3.9/site-packages (from snowflake-ml-python==1.5.0; python_version <= \"3.9\"->fosforml) (1.1.8)\n",
      "Requirement already satisfied: packaging<24,>=20.9 in /opt/conda/lib/python3.9/site-packages (from snowflake-ml-python==1.5.0; python_version <= \"3.9\"->fosforml) (23.2)\n",
      "Requirement already satisfied: absl-py<2,>=0.15 in /opt/conda/lib/python3.9/site-packages (from snowflake-ml-python==1.5.0; python_version <= \"3.9\"->fosforml) (1.4.0)\n",
      "Requirement already satisfied: anyio<4,>=3.5.0 in /opt/conda/lib/python3.9/site-packages (from snowflake-ml-python==1.5.0; python_version <= \"3.9\"->fosforml) (3.7.1)\n",
      "Requirement already satisfied: xgboost<2,>=1.7.3 in /opt/conda/lib/python3.9/site-packages (from snowflake-ml-python==1.5.0; python_version <= \"3.9\"->fosforml) (1.7.6)\n",
      "Requirement already satisfied: cachetools<6,>=3.1.1 in /opt/conda/lib/python3.9/site-packages (from snowflake-ml-python==1.5.0; python_version <= \"3.9\"->fosforml) (5.5.0)\n",
      "Requirement already satisfied: sqlparse<1,>=0.4 in /opt/conda/lib/python3.9/site-packages (from snowflake-ml-python==1.5.0; python_version <= \"3.9\"->fosforml) (0.5.2)\n",
      "Requirement already satisfied: setuptools>=40.6.0 in /opt/conda/lib/python3.9/site-packages (from snowflake-snowpark-python!=1.12.0,<2,>=1.11.1->snowflake-ml-python==1.5.0; python_version <= \"3.9\"->fosforml) (65.6.3)\n",
      "Requirement already satisfied: tzlocal in /opt/conda/lib/python3.9/site-packages (from snowflake-snowpark-python!=1.12.0,<2,>=1.11.1->snowflake-ml-python==1.5.0; python_version <= \"3.9\"->fosforml) (5.2)\n",
      "Requirement already satisfied: protobuf<6,>=3.20 in /opt/conda/lib/python3.9/site-packages (from snowflake-snowpark-python!=1.12.0,<2,>=1.11.1->snowflake-ml-python==1.5.0; python_version <= \"3.9\"->fosforml) (5.29.0)\n",
      "Requirement already satisfied: wheel in /opt/conda/lib/python3.9/site-packages (from snowflake-snowpark-python!=1.12.0,<2,>=1.11.1->snowflake-ml-python==1.5.0; python_version <= \"3.9\"->fosforml) (0.37.1)\n",
      "Requirement already satisfied: aiohttp!=4.0.0a0,!=4.0.0a1; extra == \"http\" in /opt/conda/lib/python3.9/site-packages (from fsspec[http]<2024,>=2022.11->snowflake-ml-python==1.5.0; python_version <= \"3.9\"->fosforml) (3.11.9)\n",
      "Requirement already satisfied: requests; extra == \"http\" in /opt/conda/lib/python3.9/site-packages (from fsspec[http]<2024,>=2022.11->snowflake-ml-python==1.5.0; python_version <= \"3.9\"->fosforml) (2.32.3)\n",
      "Requirement already satisfied: matplotlib in /opt/conda/lib/python3.9/site-packages (from catboost<1.3,>=1.2.0->snowflake-ml-python==1.5.0; python_version <= \"3.9\"->fosforml) (3.9.3)\n",
      "Requirement already satisfied: graphviz in /opt/conda/lib/python3.9/site-packages (from catboost<1.3,>=1.2.0->snowflake-ml-python==1.5.0; python_version <= \"3.9\"->fosforml) (0.20.3)\n",
      "Requirement already satisfied: plotly in /opt/conda/lib/python3.9/site-packages (from catboost<1.3,>=1.2.0->snowflake-ml-python==1.5.0; python_version <= \"3.9\"->fosforml) (5.24.1)\n",
      "Requirement already satisfied: six in /opt/conda/lib/python3.9/site-packages (from catboost<1.3,>=1.2.0->snowflake-ml-python==1.5.0; python_version <= \"3.9\"->fosforml) (1.16.0)\n",
      "Requirement already satisfied: python-dateutil>=2.8.2 in /opt/conda/lib/python3.9/site-packages (from pandas<3,>=1.0.0->snowflake-ml-python==1.5.0; python_version <= \"3.9\"->fosforml) (2.9.0.post0)\n",
      "Requirement already satisfied: tzdata>=2022.7 in /opt/conda/lib/python3.9/site-packages (from pandas<3,>=1.0.0->snowflake-ml-python==1.5.0; python_version <= \"3.9\"->fosforml) (2024.1)\n",
      "Requirement already satisfied: pytz>=2020.1 in /opt/conda/lib/python3.9/site-packages (from pandas<3,>=1.0.0->snowflake-ml-python==1.5.0; python_version <= \"3.9\"->fosforml) (2024.1)\n",
      "Requirement already satisfied: urllib3<2.0.0,>=1.21.1; python_version < \"3.10\" in /opt/conda/lib/python3.9/site-packages (from snowflake-connector-python[pandas]<4,>=3.5.0->snowflake-ml-python==1.5.0; python_version <= \"3.9\"->fosforml) (1.26.20)\n",
      "Requirement already satisfied: cffi<2.0.0,>=1.9 in /opt/conda/lib/python3.9/site-packages (from snowflake-connector-python[pandas]<4,>=3.5.0->snowflake-ml-python==1.5.0; python_version <= \"3.9\"->fosforml) (1.16.0)\n",
      "Requirement already satisfied: tomlkit in /opt/conda/lib/python3.9/site-packages (from snowflake-connector-python[pandas]<4,>=3.5.0->snowflake-ml-python==1.5.0; python_version <= \"3.9\"->fosforml) (0.13.2)\n",
      "Requirement already satisfied: cryptography>=3.1.0 in /opt/conda/lib/python3.9/site-packages (from snowflake-connector-python[pandas]<4,>=3.5.0->snowflake-ml-python==1.5.0; python_version <= \"3.9\"->fosforml) (42.0.5)\n",
      "Requirement already satisfied: platformdirs<5.0.0,>=2.6.0 in /opt/conda/lib/python3.9/site-packages (from snowflake-connector-python[pandas]<4,>=3.5.0->snowflake-ml-python==1.5.0; python_version <= \"3.9\"->fosforml) (4.2.2)\n",
      "Requirement already satisfied: certifi>=2017.4.17 in /opt/conda/lib/python3.9/site-packages (from snowflake-connector-python[pandas]<4,>=3.5.0->snowflake-ml-python==1.5.0; python_version <= \"3.9\"->fosforml) (2024.7.4)\n",
      "Requirement already satisfied: filelock<4,>=3.5 in /opt/conda/lib/python3.9/site-packages (from snowflake-connector-python[pandas]<4,>=3.5.0->snowflake-ml-python==1.5.0; python_version <= \"3.9\"->fosforml) (3.16.1)\n",
      "Requirement already satisfied: asn1crypto<2.0.0,>0.24.0 in /opt/conda/lib/python3.9/site-packages (from snowflake-connector-python[pandas]<4,>=3.5.0->snowflake-ml-python==1.5.0; python_version <= \"3.9\"->fosforml) (1.5.1)\n",
      "Requirement already satisfied: pyjwt<3.0.0 in /opt/conda/lib/python3.9/site-packages (from snowflake-connector-python[pandas]<4,>=3.5.0->snowflake-ml-python==1.5.0; python_version <= \"3.9\"->fosforml) (2.10.1)\n",
      "Requirement already satisfied: pyOpenSSL<25.0.0,>=16.2.0 in /opt/conda/lib/python3.9/site-packages (from snowflake-connector-python[pandas]<4,>=3.5.0->snowflake-ml-python==1.5.0; python_version <= \"3.9\"->fosforml) (24.0.0)\n",
      "Requirement already satisfied: charset-normalizer<4,>=2 in /opt/conda/lib/python3.9/site-packages (from snowflake-connector-python[pandas]<4,>=3.5.0->snowflake-ml-python==1.5.0; python_version <= \"3.9\"->fosforml) (3.3.2)\n",
      "Requirement already satisfied: sortedcontainers>=2.4.0 in /opt/conda/lib/python3.9/site-packages (from snowflake-connector-python[pandas]<4,>=3.5.0->snowflake-ml-python==1.5.0; python_version <= \"3.9\"->fosforml) (2.4.0)\n",
      "Requirement already satisfied: idna<4,>=2.5 in /opt/conda/lib/python3.9/site-packages (from snowflake-connector-python[pandas]<4,>=3.5.0->snowflake-ml-python==1.5.0; python_version <= \"3.9\"->fosforml) (3.7)\n",
      "Requirement already satisfied: aiobotocore<3.0.0,>=2.5.4 in /opt/conda/lib/python3.9/site-packages (from s3fs<2024,>=2022.11->snowflake-ml-python==1.5.0; python_version <= \"3.9\"->fosforml) (2.15.2)\n",
      "Requirement already satisfied: zipp>=3.1.0; python_version < \"3.10\" in /opt/conda/lib/python3.9/site-packages (from importlib-resources<7,>=6.1.1->snowflake-ml-python==1.5.0; python_version <= \"3.9\"->fosforml) (3.19.2)\n",
      "Requirement already satisfied: sniffio>=1.1 in /opt/conda/lib/python3.9/site-packages (from anyio<4,>=3.5.0->snowflake-ml-python==1.5.0; python_version <= \"3.9\"->fosforml) (1.3.1)\n",
      "Requirement already satisfied: exceptiongroup; python_version < \"3.11\" in /opt/conda/lib/python3.9/site-packages (from anyio<4,>=3.5.0->snowflake-ml-python==1.5.0; python_version <= \"3.9\"->fosforml) (1.2.2)\n",
      "Requirement already satisfied: aiosignal>=1.1.2 in /opt/conda/lib/python3.9/site-packages (from aiohttp!=4.0.0a0,!=4.0.0a1; extra == \"http\"->fsspec[http]<2024,>=2022.11->snowflake-ml-python==1.5.0; python_version <= \"3.9\"->fosforml) (1.3.1)\n",
      "Requirement already satisfied: aiohappyeyeballs>=2.3.0 in /opt/conda/lib/python3.9/site-packages (from aiohttp!=4.0.0a0,!=4.0.0a1; extra == \"http\"->fsspec[http]<2024,>=2022.11->snowflake-ml-python==1.5.0; python_version <= \"3.9\"->fosforml) (2.4.4)\n",
      "Requirement already satisfied: multidict<7.0,>=4.5 in /opt/conda/lib/python3.9/site-packages (from aiohttp!=4.0.0a0,!=4.0.0a1; extra == \"http\"->fsspec[http]<2024,>=2022.11->snowflake-ml-python==1.5.0; python_version <= \"3.9\"->fosforml) (6.1.0)\n",
      "Requirement already satisfied: async-timeout<6.0,>=4.0; python_version < \"3.11\" in /opt/conda/lib/python3.9/site-packages (from aiohttp!=4.0.0a0,!=4.0.0a1; extra == \"http\"->fsspec[http]<2024,>=2022.11->snowflake-ml-python==1.5.0; python_version <= \"3.9\"->fosforml) (5.0.1)\n",
      "Requirement already satisfied: propcache>=0.2.0 in /opt/conda/lib/python3.9/site-packages (from aiohttp!=4.0.0a0,!=4.0.0a1; extra == \"http\"->fsspec[http]<2024,>=2022.11->snowflake-ml-python==1.5.0; python_version <= \"3.9\"->fosforml) (0.2.1)\n",
      "Requirement already satisfied: frozenlist>=1.1.1 in /opt/conda/lib/python3.9/site-packages (from aiohttp!=4.0.0a0,!=4.0.0a1; extra == \"http\"->fsspec[http]<2024,>=2022.11->snowflake-ml-python==1.5.0; python_version <= \"3.9\"->fosforml) (1.5.0)\n",
      "Requirement already satisfied: attrs>=17.3.0 in /opt/conda/lib/python3.9/site-packages (from aiohttp!=4.0.0a0,!=4.0.0a1; extra == \"http\"->fsspec[http]<2024,>=2022.11->snowflake-ml-python==1.5.0; python_version <= \"3.9\"->fosforml) (23.2.0)\n",
      "Requirement already satisfied: yarl<2.0,>=1.17.0 in /opt/conda/lib/python3.9/site-packages (from aiohttp!=4.0.0a0,!=4.0.0a1; extra == \"http\"->fsspec[http]<2024,>=2022.11->snowflake-ml-python==1.5.0; python_version <= \"3.9\"->fosforml) (1.18.3)\n",
      "Requirement already satisfied: pillow>=8 in /opt/conda/lib/python3.9/site-packages (from matplotlib->catboost<1.3,>=1.2.0->snowflake-ml-python==1.5.0; python_version <= \"3.9\"->fosforml) (11.0.0)\n",
      "Requirement already satisfied: pyparsing>=2.3.1 in /opt/conda/lib/python3.9/site-packages (from matplotlib->catboost<1.3,>=1.2.0->snowflake-ml-python==1.5.0; python_version <= \"3.9\"->fosforml) (3.2.0)\n",
      "Requirement already satisfied: contourpy>=1.0.1 in /opt/conda/lib/python3.9/site-packages (from matplotlib->catboost<1.3,>=1.2.0->snowflake-ml-python==1.5.0; python_version <= \"3.9\"->fosforml) (1.3.0)\n",
      "Requirement already satisfied: cycler>=0.10 in /opt/conda/lib/python3.9/site-packages (from matplotlib->catboost<1.3,>=1.2.0->snowflake-ml-python==1.5.0; python_version <= \"3.9\"->fosforml) (0.12.1)\n",
      "Requirement already satisfied: kiwisolver>=1.3.1 in /opt/conda/lib/python3.9/site-packages (from matplotlib->catboost<1.3,>=1.2.0->snowflake-ml-python==1.5.0; python_version <= \"3.9\"->fosforml) (1.4.7)\n",
      "Requirement already satisfied: fonttools>=4.22.0 in /opt/conda/lib/python3.9/site-packages (from matplotlib->catboost<1.3,>=1.2.0->snowflake-ml-python==1.5.0; python_version <= \"3.9\"->fosforml) (4.55.1)\n",
      "Requirement already satisfied: tenacity>=6.2.0 in /opt/conda/lib/python3.9/site-packages (from plotly->catboost<1.3,>=1.2.0->snowflake-ml-python==1.5.0; python_version <= \"3.9\"->fosforml) (9.0.0)\n",
      "Requirement already satisfied: pycparser in /opt/conda/lib/python3.9/site-packages (from cffi<2.0.0,>=1.9->snowflake-connector-python[pandas]<4,>=3.5.0->snowflake-ml-python==1.5.0; python_version <= \"3.9\"->fosforml) (2.21)\n",
      "Requirement already satisfied: wrapt<2.0.0,>=1.10.10 in /opt/conda/lib/python3.9/site-packages (from aiobotocore<3.0.0,>=2.5.4->s3fs<2024,>=2022.11->snowflake-ml-python==1.5.0; python_version <= \"3.9\"->fosforml) (1.17.0)\n",
      "Requirement already satisfied: botocore<1.35.37,>=1.35.16 in /opt/conda/lib/python3.9/site-packages (from aiobotocore<3.0.0,>=2.5.4->s3fs<2024,>=2022.11->snowflake-ml-python==1.5.0; python_version <= \"3.9\"->fosforml) (1.35.36)\n",
      "Requirement already satisfied: aioitertools<1.0.0,>=0.5.1 in /opt/conda/lib/python3.9/site-packages (from aiobotocore<3.0.0,>=2.5.4->s3fs<2024,>=2022.11->snowflake-ml-python==1.5.0; python_version <= \"3.9\"->fosforml) (0.12.0)\n",
      "Requirement already satisfied: jmespath<2.0.0,>=0.7.1 in /opt/conda/lib/python3.9/site-packages (from botocore<1.35.37,>=1.35.16->aiobotocore<3.0.0,>=2.5.4->s3fs<2024,>=2022.11->snowflake-ml-python==1.5.0; python_version <= \"3.9\"->fosforml) (1.0.1)\n",
      "\u001b[33mWARNING: You are using pip version 19.3.1; however, version 24.3.1 is available.\n",
      "You should consider upgrading via the 'pip install --upgrade pip' command.\u001b[0m\n",
      "Note: you may need to restart the kernel to use updated packages.\n"
     ]
    }
   ],
   "source": [
    "pip install fosforml"
   ]
  },
  {
   "cell_type": "code",
   "execution_count": 6,
   "id": "850ea77e-a415-44f4-a5b2-24f00543bf1a",
   "metadata": {},
   "outputs": [],
   "source": [
    "import pandas as pd\n",
    "import numpy as np\n",
    "from datetime import datetime, timedelta\n",
    "from sklearn.model_selection import train_test_split\n",
    "from sklearn.ensemble import RandomForestRegressor\n",
    "from sklearn.metrics import mean_squared_error"
   ]
  },
  {
   "cell_type": "code",
   "execution_count": 7,
   "id": "d2e37f8e-1170-46d4-848c-8d8b615b2a4d",
   "metadata": {},
   "outputs": [],
   "source": [
    "from fosforml.model_manager.snowflakesession import get_session\n",
    "my_session = get_session()"
   ]
  },
  {
   "cell_type": "code",
   "execution_count": 8,
   "id": "e7a2c0ec-12aa-4d76-b72d-1f4a95085202",
   "metadata": {},
   "outputs": [
    {
     "data": {
      "text/plain": [
       "'CPG_SCHEMA'"
      ]
     },
     "execution_count": 8,
     "metadata": {},
     "output_type": "execute_result"
    }
   ],
   "source": [
    "my_session.connection.database\n",
    "my_session.connection.schema"
   ]
  },
  {
   "cell_type": "code",
   "execution_count": 9,
   "id": "febc186c-4a95-4804-89f6-ee25b4bfb37e",
   "metadata": {},
   "outputs": [],
   "source": [
    "table_name = 'FOOD_AGENT_AI'"
   ]
  },
  {
   "cell_type": "code",
   "execution_count": 10,
   "id": "6cf14013-4440-4c9a-b025-026cd1d0d117",
   "metadata": {},
   "outputs": [],
   "source": [
    "sf_df = my_session.sql(\"select * from {} \".format(table_name))"
   ]
  },
  {
   "cell_type": "code",
   "execution_count": 11,
   "id": "e8948ce1-94d8-4eba-9a7a-cfa1c78b3618",
   "metadata": {},
   "outputs": [
    {
     "data": {
      "text/plain": [
       "snowflake.snowpark.dataframe.DataFrame"
      ]
     },
     "execution_count": 11,
     "metadata": {},
     "output_type": "execute_result"
    }
   ],
   "source": [
    "type(sf_df)"
   ]
  },
  {
   "cell_type": "code",
   "execution_count": 12,
   "id": "5bd946e2-4591-4216-95df-6d82ff844b4a",
   "metadata": {},
   "outputs": [],
   "source": [
    "df = sf_df.to_pandas()"
   ]
  },
  {
   "cell_type": "code",
   "execution_count": 13,
   "id": "8f238ba7-1915-4e1f-8eba-58a31f994fd7",
   "metadata": {},
   "outputs": [
    {
     "data": {
      "text/plain": [
       "pandas.core.frame.DataFrame"
      ]
     },
     "execution_count": 13,
     "metadata": {},
     "output_type": "execute_result"
    }
   ],
   "source": [
    "type(df)"
   ]
  },
  {
   "cell_type": "code",
   "execution_count": 14,
   "id": "3a794789-c15b-4493-8f99-c5da46167875",
   "metadata": {},
   "outputs": [
    {
     "data": {
      "text/html": [
       "<div>\n",
       "<style scoped>\n",
       "    .dataframe tbody tr th:only-of-type {\n",
       "        vertical-align: middle;\n",
       "    }\n",
       "\n",
       "    .dataframe tbody tr th {\n",
       "        vertical-align: top;\n",
       "    }\n",
       "\n",
       "    .dataframe thead th {\n",
       "        text-align: right;\n",
       "    }\n",
       "</style>\n",
       "<table border=\"1\" class=\"dataframe\">\n",
       "  <thead>\n",
       "    <tr style=\"text-align: right;\">\n",
       "      <th></th>\n",
       "      <th>PRODUCT_ID</th>\n",
       "      <th>PRODUCT_NAME</th>\n",
       "      <th>CATEGORY</th>\n",
       "      <th>CURRENT_STOCK_LEVEL</th>\n",
       "      <th>REORDER_LEVEL</th>\n",
       "      <th>LEAD_TIME</th>\n",
       "      <th>SUPPLIER_ID</th>\n",
       "      <th>SUPPLIER_NAME</th>\n",
       "      <th>ORDER_QUANTITY</th>\n",
       "      <th>SALES_DATA</th>\n",
       "      <th>...</th>\n",
       "      <th>WAREHOUSE_LOCATION</th>\n",
       "      <th>INVENTORY_LEVEL</th>\n",
       "      <th>Join_2_LEAD_TIME</th>\n",
       "      <th>Join_2_DEMAND_FORECAST</th>\n",
       "      <th>Join_2_STOCK_TURNOVER_RATE</th>\n",
       "      <th>Join_2_RETURN_RATE</th>\n",
       "      <th>Join_2_COST_PRICE</th>\n",
       "      <th>Join_2_SELLING_PRICE</th>\n",
       "      <th>TOTAL_COST</th>\n",
       "      <th>EFFICIENCY_METRICS</th>\n",
       "    </tr>\n",
       "  </thead>\n",
       "  <tbody>\n",
       "    <tr>\n",
       "      <th>0</th>\n",
       "      <td>1</td>\n",
       "      <td>Banana</td>\n",
       "      <td>Bakery</td>\n",
       "      <td>12</td>\n",
       "      <td>18</td>\n",
       "      <td>7</td>\n",
       "      <td>9</td>\n",
       "      <td>Supplier C</td>\n",
       "      <td>37</td>\n",
       "      <td>399</td>\n",
       "      <td>...</td>\n",
       "      <td>Warehouse B</td>\n",
       "      <td>60</td>\n",
       "      <td>5</td>\n",
       "      <td>999</td>\n",
       "      <td>2.26</td>\n",
       "      <td>0.02</td>\n",
       "      <td>14.39</td>\n",
       "      <td>27.28</td>\n",
       "      <td>63.22</td>\n",
       "      <td>1.45</td>\n",
       "    </tr>\n",
       "    <tr>\n",
       "      <th>1</th>\n",
       "      <td>2</td>\n",
       "      <td>Apple</td>\n",
       "      <td>Bakery</td>\n",
       "      <td>44</td>\n",
       "      <td>19</td>\n",
       "      <td>7</td>\n",
       "      <td>2</td>\n",
       "      <td>Supplier C</td>\n",
       "      <td>43</td>\n",
       "      <td>204</td>\n",
       "      <td>...</td>\n",
       "      <td>Warehouse C</td>\n",
       "      <td>73</td>\n",
       "      <td>5</td>\n",
       "      <td>275</td>\n",
       "      <td>2.88</td>\n",
       "      <td>0.04</td>\n",
       "      <td>7.73</td>\n",
       "      <td>13.24</td>\n",
       "      <td>36.27</td>\n",
       "      <td>0.61</td>\n",
       "    </tr>\n",
       "    <tr>\n",
       "      <th>2</th>\n",
       "      <td>3</td>\n",
       "      <td>Milk</td>\n",
       "      <td>Bakery</td>\n",
       "      <td>59</td>\n",
       "      <td>19</td>\n",
       "      <td>3</td>\n",
       "      <td>1</td>\n",
       "      <td>Supplier C</td>\n",
       "      <td>43</td>\n",
       "      <td>416</td>\n",
       "      <td>...</td>\n",
       "      <td>Warehouse B</td>\n",
       "      <td>43</td>\n",
       "      <td>1</td>\n",
       "      <td>572</td>\n",
       "      <td>1.72</td>\n",
       "      <td>0.03</td>\n",
       "      <td>11.64</td>\n",
       "      <td>17.49</td>\n",
       "      <td>39.46</td>\n",
       "      <td>0.86</td>\n",
       "    </tr>\n",
       "    <tr>\n",
       "      <th>3</th>\n",
       "      <td>4</td>\n",
       "      <td>Milk</td>\n",
       "      <td>Dairy</td>\n",
       "      <td>76</td>\n",
       "      <td>16</td>\n",
       "      <td>3</td>\n",
       "      <td>1</td>\n",
       "      <td>Supplier B</td>\n",
       "      <td>24</td>\n",
       "      <td>815</td>\n",
       "      <td>...</td>\n",
       "      <td>Warehouse A</td>\n",
       "      <td>75</td>\n",
       "      <td>6</td>\n",
       "      <td>517</td>\n",
       "      <td>1.78</td>\n",
       "      <td>0.04</td>\n",
       "      <td>5.47</td>\n",
       "      <td>7.23</td>\n",
       "      <td>25.56</td>\n",
       "      <td>0.99</td>\n",
       "    </tr>\n",
       "    <tr>\n",
       "      <th>4</th>\n",
       "      <td>5</td>\n",
       "      <td>Banana</td>\n",
       "      <td>Bakery</td>\n",
       "      <td>91</td>\n",
       "      <td>10</td>\n",
       "      <td>6</td>\n",
       "      <td>5</td>\n",
       "      <td>Supplier C</td>\n",
       "      <td>31</td>\n",
       "      <td>899</td>\n",
       "      <td>...</td>\n",
       "      <td>Warehouse C</td>\n",
       "      <td>73</td>\n",
       "      <td>7</td>\n",
       "      <td>950</td>\n",
       "      <td>0.75</td>\n",
       "      <td>0.04</td>\n",
       "      <td>8.19</td>\n",
       "      <td>11.98</td>\n",
       "      <td>53.18</td>\n",
       "      <td>0.81</td>\n",
       "    </tr>\n",
       "  </tbody>\n",
       "</table>\n",
       "<p>5 rows × 89 columns</p>\n",
       "</div>"
      ],
      "text/plain": [
       "   PRODUCT_ID PRODUCT_NAME CATEGORY  CURRENT_STOCK_LEVEL  REORDER_LEVEL  \\\n",
       "0           1       Banana   Bakery                   12             18   \n",
       "1           2        Apple   Bakery                   44             19   \n",
       "2           3         Milk   Bakery                   59             19   \n",
       "3           4         Milk    Dairy                   76             16   \n",
       "4           5       Banana   Bakery                   91             10   \n",
       "\n",
       "   LEAD_TIME  SUPPLIER_ID SUPPLIER_NAME  ORDER_QUANTITY  SALES_DATA  ...  \\\n",
       "0          7            9    Supplier C              37         399  ...   \n",
       "1          7            2    Supplier C              43         204  ...   \n",
       "2          3            1    Supplier C              43         416  ...   \n",
       "3          3            1    Supplier B              24         815  ...   \n",
       "4          6            5    Supplier C              31         899  ...   \n",
       "\n",
       "   WAREHOUSE_LOCATION INVENTORY_LEVEL Join_2_LEAD_TIME Join_2_DEMAND_FORECAST  \\\n",
       "0         Warehouse B              60                5                    999   \n",
       "1         Warehouse C              73                5                    275   \n",
       "2         Warehouse B              43                1                    572   \n",
       "3         Warehouse A              75                6                    517   \n",
       "4         Warehouse C              73                7                    950   \n",
       "\n",
       "   Join_2_STOCK_TURNOVER_RATE  Join_2_RETURN_RATE  Join_2_COST_PRICE  \\\n",
       "0                        2.26                0.02              14.39   \n",
       "1                        2.88                0.04               7.73   \n",
       "2                        1.72                0.03              11.64   \n",
       "3                        1.78                0.04               5.47   \n",
       "4                        0.75                0.04               8.19   \n",
       "\n",
       "   Join_2_SELLING_PRICE  TOTAL_COST EFFICIENCY_METRICS  \n",
       "0                 27.28       63.22               1.45  \n",
       "1                 13.24       36.27               0.61  \n",
       "2                 17.49       39.46               0.86  \n",
       "3                  7.23       25.56               0.99  \n",
       "4                 11.98       53.18               0.81  \n",
       "\n",
       "[5 rows x 89 columns]"
      ]
     },
     "execution_count": 14,
     "metadata": {},
     "output_type": "execute_result"
    }
   ],
   "source": [
    "df.head()"
   ]
  },
  {
   "cell_type": "code",
   "execution_count": 15,
   "id": "c8868e10-84a2-4f79-a0d3-620b052d5730",
   "metadata": {},
   "outputs": [
    {
     "data": {
      "text/plain": [
       "Index(['PRODUCT_ID', 'PRODUCT_NAME', 'CATEGORY', 'CURRENT_STOCK_LEVEL',\n",
       "       'REORDER_LEVEL', 'LEAD_TIME', 'SUPPLIER_ID', 'SUPPLIER_NAME',\n",
       "       'ORDER_QUANTITY', 'SALES_DATA', 'DEMAND_FORECAST', 'ORDER_STATUS',\n",
       "       'EXPIRY_DATE', 'STORAGE_LOCATION', 'COST_PRICE', 'SELLING_PRICE',\n",
       "       'STOCK_TURNOVER_RATE', 'RETURN_RATE', 'Distributor/Retailer ID',\n",
       "       'Distributor/Retailer Name', 'CONTACT_INFORMATION', 'LOCATION',\n",
       "       'ACCOUNT_MANAGER', 'FMCG_CRM_PRODUCT_ID', 'FMCG_CRM_PRODUCT_NAME',\n",
       "       'ORDER_HISTORY', 'ISSUE_ID', 'ISSUE_DESCRIPTION', 'ISSUE_STATUS',\n",
       "       'RESOLUTION_TIME', 'SUPPORT_PROVIDED', 'FEEDBACK', 'NEGOTIATION_TERMS',\n",
       "       'AGREEMENT_STATUS', 'SALES_PERFORMANCE', 'ENGAGEMENT_HISTORY',\n",
       "       'LOYALTY_PROGRAM', 'SATISFACTION_RATING', 'CONTRACT_DETAILS',\n",
       "       'RENEWAL_DATE', 'PREDEFINED_GOALS', 'PERFORMANCE_METRICS',\n",
       "       'DISTRIBUTION_CENTER_ID', 'DISTRIBUTION_CENTER_LOCATION',\n",
       "       'Join_2_PRODUCT_ID', 'Join_2_PRODUCT_NAME', 'Join_2_CATEGORY',\n",
       "       'Join_2_CURRENT_STOCK_LEVEL', 'ORDER_ID', 'ORDER_DATE', 'DELIVERY_DATE',\n",
       "       'DELIVERY_STATUS', 'DELAY_STATUS', 'DISRUPTION_TYPE',\n",
       "       'RESOLUTION_STATUS', 'Join_2_RESOLUTION_TIME', 'LOGISTICS_PROVIDER',\n",
       "       'ROUTE_ID', 'ROUTE_EFFICIENCY', 'Real-Time Location',\n",
       "       'TEMPERATURE_CONTROL', 'COMMUNICATION_LOGS', 'INCIDENT_REPORTS',\n",
       "       'CUSTOMER_FEEDBACK', 'COST_IMPACT', 'Join_2_PERFORMANCE_METRICS',\n",
       "       'Join_2_SUPPLIER_ID', 'Join_2_SUPPLIER_NAME', 'SUPPLIER_RATING',\n",
       "       'FMCG_SCM_PRODUCT_ID', 'FMCG_SCM_PRODUCT_NAME', 'FMCG_SCM_CATEGORY',\n",
       "       'Join_2_ORDER_QUANTITY', 'FMCG_SCM_ORDER_DATE',\n",
       "       'FMCG_SCM_DELIVERY_DATE', 'FMCG_SCM_DELIVERY_STATUS', 'DELIVERY_ROUTE',\n",
       "       'FMCG_SCM_LOGISTICS_PROVIDER', 'SHIPPING_COST', 'WAREHOUSE_LOCATION',\n",
       "       'INVENTORY_LEVEL', 'Join_2_LEAD_TIME', 'Join_2_DEMAND_FORECAST',\n",
       "       'Join_2_STOCK_TURNOVER_RATE', 'Join_2_RETURN_RATE', 'Join_2_COST_PRICE',\n",
       "       'Join_2_SELLING_PRICE', 'TOTAL_COST', 'EFFICIENCY_METRICS'],\n",
       "      dtype='object')"
      ]
     },
     "execution_count": 15,
     "metadata": {},
     "output_type": "execute_result"
    }
   ],
   "source": [
    "df.columns"
   ]
  },
  {
   "cell_type": "code",
   "execution_count": 22,
   "id": "5aca0bc5-8e41-4502-8985-b47793b02d1e",
   "metadata": {},
   "outputs": [],
   "source": [
    "# Feature Engineering for Inventory Management\n",
    "df['Stock Turnover Rate'] = df['SALES_DATA'] / df['CURRENT_STOCK_LEVEL']\n",
    "df['Days to Reorder'] = df['CURRENT_STOCK_LEVEL'] / df['DEMAND_FORECAST']\n",
    "\n",
    "# Feature Engineering for Supply Chain Optimization\n",
    "df['Total Cost'] = df['COST_PRICE'] + df['SHIPPING_COST']\n",
    "df['Efficiency Score'] = df['ROUTE_EFFICIENCY'] / df['LEAD_TIME']\n",
    "\n",
    "# Feature Engineering for Real-Time Decision Making\n",
    "df['Delay Impact'] = np.where(df['DELAY_STATUS'] == 'Yes', 1, 0)\n",
    "df['Resolution Efficiency'] = df['RESOLUTION_TIME'].apply(lambda x: int(x.split()[0]) if x else 0)\n",
    "\n",
    "# Feature Engineering for Customer Relationship Management\n",
    "df['Issue Resolution Time'] = df['RESOLUTION_TIME'].apply(lambda x: int(x.split()[0]) if x else 0)\n",
    "df['Satisfaction Score'] = df['SATISFACTION_RATING'] * df['SALES_PERFORMANCE']"
   ]
  },
  {
   "cell_type": "code",
   "execution_count": 23,
   "id": "64f37209-5464-412e-8f7c-3dccb1b18dcd",
   "metadata": {},
   "outputs": [
    {
     "name": "stdout",
     "output_type": "stream",
     "text": [
      "\n",
      "Mean Squared Error for Demand Forecast Prediction: 29262.91770000001\n"
     ]
    }
   ],
   "source": [
    "# Train a model to predict demand forecast for Inventory Management\n",
    "X = df[['CURRENT_STOCK_LEVEL', 'REORDER_LEVEL', 'LEAD_TIME', 'SALES_DATA', 'STOCK_TURNOVER_RATE', 'Days to Reorder']]\n",
    "y = df['DEMAND_FORECAST']\n",
    "\n",
    "X_train, X_test, y_train, y_test = train_test_split(X, y, test_size=0.2, random_state=42)\n",
    "model = RandomForestRegressor(n_estimators=100, random_state=42)\n",
    "model.fit(X_train, y_train)\n",
    "\n",
    "y_pred = model.predict(X_test)\n",
    "mse = mean_squared_error(y_test, y_pred)\n",
    "print(f\"\\nMean Squared Error for Demand Forecast Prediction: {mse}\")\n"
   ]
  },
  {
   "cell_type": "code",
   "execution_count": 26,
   "id": "8de67e51-11ad-40f3-b5fb-23d693d9fd20",
   "metadata": {},
   "outputs": [
    {
     "name": "stdout",
     "output_type": "stream",
     "text": [
      "\n",
      "Mean Squared Error for Total Cost Prediction: 52.54575201571443\n"
     ]
    }
   ],
   "source": [
    "# Train a model to predict Total Cost for Supply Chain Optimization\n",
    "X = df[['Join_2_ORDER_QUANTITY', 'SHIPPING_COST', 'Join_2_LEAD_TIME', 'Efficiency Score']]\n",
    "y = df['TOTAL_COST']\n",
    "\n",
    "X_train, X_test, y_train, y_test = train_test_split(X, y, test_size=0.2, random_state=42)\n",
    "model = RandomForestRegressor(n_estimators=100, random_state=42)\n",
    "model.fit(X_train, y_train)\n",
    "\n",
    "y_pred = model.predict(X_test)\n",
    "mse = mean_squared_error(y_test, y_pred)\n",
    "print(f\"\\nMean Squared Error for Total Cost Prediction: {mse}\")"
   ]
  },
  {
   "cell_type": "code",
   "execution_count": 28,
   "id": "1f0629d9-7382-4fbd-9214-d3e524a887bd",
   "metadata": {},
   "outputs": [
    {
     "name": "stdout",
     "output_type": "stream",
     "text": [
      "\n",
      "Mean Squared Error for Delay Impact Prediction: 0.0\n"
     ]
    }
   ],
   "source": [
    "# Train a model to predict Delay Impact for Real-Time Decision Making\n",
    "X = df[['Join_2_CURRENT_STOCK_LEVEL', 'ORDER_ID', 'ROUTE_EFFICIENCY', 'Resolution Efficiency']]\n",
    "y = df['Delay Impact']\n",
    "\n",
    "X_train, X_test, y_train, y_test = train_test_split(X, y, test_size=0.2, random_state=42)\n",
    "model = RandomForestRegressor(n_estimators=100, random_state=42)\n",
    "model.fit(X_train, y_train)\n",
    "\n",
    "y_pred = model.predict(X_test)\n",
    "mse = mean_squared_error(y_test, y_pred)\n",
    "print(f\"\\nMean Squared Error for Delay Impact Prediction: {mse}\")\n"
   ]
  },
  {
   "cell_type": "code",
   "execution_count": 31,
   "id": "7e2a324d-b523-41e6-8c1e-9de0103775d4",
   "metadata": {},
   "outputs": [],
   "source": [
    "df['RESOLUTION_TIME'] = df['RESOLUTION_TIME'].apply(lambda x: int(x.split()[0]) if pd.notnull(x) else 0)"
   ]
  },
  {
   "cell_type": "code",
   "execution_count": 32,
   "id": "13bfc08f-86ab-47f4-be4d-03c662bbbb64",
   "metadata": {},
   "outputs": [
    {
     "name": "stdout",
     "output_type": "stream",
     "text": [
      "\n",
      "Mean Squared Error for Satisfaction Score Prediction: 16539038.446725454\n"
     ]
    }
   ],
   "source": [
    "# Train a model to predict Satisfaction Score for CRM\n",
    "X = df[['RESOLUTION_TIME', 'SALES_PERFORMANCE', 'SATISFACTION_RATING']]\n",
    "y = df['Satisfaction Score']\n",
    "\n",
    "X_train, X_test, y_train, y_test = train_test_split(X, y, test_size=0.2, random_state=42)\n",
    "model = RandomForestRegressor(n_estimators=100, random_state=42)\n",
    "model.fit(X_train, y_train)\n",
    "\n",
    "y_pred = model.predict(X_test)\n",
    "mse = mean_squared_error(y_test, y_pred)\n",
    "print(f\"\\nMean Squared Error for Satisfaction Score Prediction: {mse}\")\n"
   ]
  },
  {
   "cell_type": "code",
   "execution_count": null,
   "id": "9e092b77-8ce4-4e42-b078-be57d9db9795",
   "metadata": {},
   "outputs": [],
   "source": [
    "# Save the model for deployment\n",
    "import joblib\n",
    "joblib.dump(model, 'agentic_ai_model.pkl')"
   ]
  },
  {
   "cell_type": "code",
   "execution_count": null,
   "id": "e80a1872-2343-4431-be7f-3bf3aef7bf2e",
   "metadata": {},
   "outputs": [],
   "source": []
  }
 ],
 "metadata": {
  "kernelspec": {
   "display_name": "Python 3 (ipykernel)",
   "language": "python",
   "name": "python3"
  },
  "language_info": {
   "codemirror_mode": {
    "name": "ipython",
    "version": 3
   },
   "file_extension": ".py",
   "mimetype": "text/x-python",
   "name": "python",
   "nbconvert_exporter": "python",
   "pygments_lexer": "ipython3",
   "version": "3.9.19"
  }
 },
 "nbformat": 4,
 "nbformat_minor": 5
}
